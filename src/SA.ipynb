{
 "cells": [
  {
   "cell_type": "code",
   "execution_count": 13,
   "metadata": {},
   "outputs": [
    {
     "name": "stdout",
     "output_type": "stream",
     "text": [
      "[nltk_data] Downloading package stopwords to /home/trip3r/nltk_data...\n",
      "[nltk_data]   Unzipping corpora/stopwords.zip.\n"
     ]
    }
   ],
   "source": [
    "import csv\n",
    "import re\n",
    "import codecs\n",
    "\n",
    "import numpy as np\n",
    "import nltk\n",
    "from nltk.tokenize import TweetTokenizer\n",
    "nltk.download('stopwords')\n",
    "from nltk.corpus import stopwords\n",
    "\n",
    "\n",
    "from sklearn.feature_extraction.text import CountVectorizer\n",
    "from sklearn.svm import SVC\n",
    "from sklearn.model_selection import train_test_split, StratifiedKFold, cross_val_score\n",
    "from sklearn.pipeline import make_pipeline, Pipeline\n",
    "from sklearn.model_selection import GridSearchCV\n",
    "from sklearn.metrics import make_scorer, accuracy_score, f1_score, precision_score, recall_score"
   ]
  },
  {
   "cell_type": "code",
   "execution_count": 14,
   "metadata": {},
   "outputs": [],
   "source": [
    "TRAIN_DATA2013 = \"../data/Subtask_A/twitter-2013train-A.txt\"\n",
    "TEST_DATA2013 = \"../data/Subtask_A/twitter-2013test-A.txt\"\n",
    "DEV_DATA2013 = \"../data/Subtask_A/twitter-2013dev-A.txt\"\n",
    "TRAIN_DATA2016 = \"../data/Subtask_A/twitter-2016train-A.txt\"\n",
    "TEST_DATA2016 = \"../data/Subtask_A/twitter-2016test-A.txt\"\n",
    "DEV_DATA2016 = \"../data/Subtask_A/twitter-2016dev-A.txt\""
   ]
  },
  {
   "cell_type": "code",
   "execution_count": 15,
   "metadata": {},
   "outputs": [],
   "source": [
    "trainData2013 = []\n",
    "testData2013 = []\n",
    "devData2013 = []\n",
    "trainData2016 = []\n",
    "testData2016 = []\n",
    "devData2016 = []\n",
    "\n",
    "def readData(path):\n",
    "    data = []\n",
    "    with open(path) as file:\n",
    "        data = file.read()\n",
    "        data = codecs.decode(data, 'unicode_escape')\n",
    "        data = data.split('\\n')[:-1]\n",
    "    return data\n",
    "\n",
    "trainData2013 = readData(TRAIN_DATA2013)\n",
    "testData2013 = readData(TEST_DATA2013)\n",
    "devData2013 = readData(DEV_DATA2013)\n",
    "trainData2016 = readData(TRAIN_DATA2016)\n",
    "testData2016 = readData(TEST_DATA2016)\n",
    "devData2016 = readData(DEV_DATA2016)"
   ]
  },
  {
   "cell_type": "code",
   "execution_count": 16,
   "metadata": {},
   "outputs": [],
   "source": [
    "trainData2013 += devData2013\n",
    "trainData2016 += devData2016"
   ]
  },
  {
   "cell_type": "code",
   "execution_count": 17,
   "metadata": {},
   "outputs": [],
   "source": [
    "def removePattern(tweet, pattern):\n",
    "    r = re.findall(pattern, tweet)\n",
    "    for i in r:\n",
    "        tweet = re.sub(i, '', tweet)\n",
    "    return tweet \n",
    "\n",
    "def preprocess(data):\n",
    "    cleanData = []\n",
    "    for line in data:\n",
    "        tId, tSent, tweet = line.split(\"\\t\")[:3] # Splitting by tabspace\n",
    "        tweet = removePattern(tweet, \"@[\\w]*\") # Removing @user tags\n",
    "        tweet = tweet.replace(\"[^a-zA-Z#]\", \" \") # Removing punctuation and special characters\n",
    "        tweet = re.sub(r'http[s]?://(?:[a-z]|[0-9]|[$-_@.&amp;+]|[!*\\(\\),]|(?:%[0-9a-f][0-9a-f]))+',\"<URL>\", tweet)\n",
    "#         tweet = tokenize(tweet)\n",
    "        tweet = tweet.replace(\"#\", \"\")\n",
    "#         tweet = re.sub('\\W+',' ', tweet)\n",
    "        tweet = re.sub(\" +\", \" \", tweet)\n",
    "        tweet = tweet.lower()\n",
    "        cleanData.append([tId, tSent, tweet])\n",
    "    return cleanData\n",
    "\n",
    "def tokenize(tweet):\n",
    "    return TweetTokenizer().tokenize(tweet)"
   ]
  },
  {
   "cell_type": "code",
   "execution_count": 18,
   "metadata": {},
   "outputs": [],
   "source": [
    "en_stopwords = set(stopwords.words(\"english\")) \n",
    "\n",
    "vectorizer = CountVectorizer(\n",
    "    analyzer = 'word',\n",
    "    tokenizer = tokenize,\n",
    "    lowercase = True,\n",
    "    ngram_range=(1, 1),\n",
    "    stop_words = en_stopwords)"
   ]
  },
  {
   "cell_type": "code",
   "execution_count": 19,
   "metadata": {},
   "outputs": [],
   "source": [
    "trainData = preprocess(trainData2013)\n",
    "testData = preprocess(testData2013)\n",
    "devData = preprocess(devData2013)"
   ]
  },
  {
   "cell_type": "code",
   "execution_count": 20,
   "metadata": {},
   "outputs": [],
   "source": [
    "trainTweets = [x[2] for x in trainData]\n",
    "X_train = np.array(trainTweets)\n",
    "trainSents = [x[1] for x in trainData]\n",
    "y_train = []\n",
    "\n",
    "for x in trainSents:\n",
    "    if x == \"negative\":\n",
    "        y_train.append(-1)\n",
    "    elif x == \"neutral\":\n",
    "        y_train.append(0)\n",
    "    elif x == \"positive\":\n",
    "        y_train.append(1)\n",
    "        \n",
    "testTweets = [x[2] for x in testData]\n",
    "X_test = np.array(testTweets)\n",
    "testSents = [x[1] for x in testData]\n",
    "y_test = []\n",
    "for x in testSents:\n",
    "    if x == \"negative\":\n",
    "        y_test.append(-1)\n",
    "    elif x == \"neutral\":\n",
    "        y_test.append(0)\n",
    "    elif x == \"positive\":\n",
    "        y_test.append(1)"
   ]
  },
  {
   "cell_type": "code",
   "execution_count": 21,
   "metadata": {},
   "outputs": [],
   "source": [
    "X = np.append(X_train, X_test)\n",
    "X = vectorizer.fit_transform(X)\n",
    "n = X_train.shape[0]\n",
    "X_train = X[:n]\n",
    "X_test = X[n:]"
   ]
  },
  {
   "cell_type": "code",
   "execution_count": 22,
   "metadata": {},
   "outputs": [],
   "source": [
    "nsv = SVC(probability=True, kernel='linear', class_weight=\"balanced\", C = 0.03)\n",
    "nsv.fit(X_train, y_train)\n",
    "acc = nsv.score(X_test, y_test)"
   ]
  },
  {
   "cell_type": "code",
   "execution_count": 24,
   "metadata": {},
   "outputs": [],
   "source": [
    "def evaluate(target, predicted):\n",
    "    f1 = f1_score(target, predicted, average='weighted')\n",
    "    acc = accuracy_score(target, predicted)\n",
    "    rec = recall_score(target, predicted, average = 'macro')\n",
    "#     return f1, acc, rec\n",
    "    print(\"f1 score: \", f1)\n",
    "    print(\"avg recall\", rec)    \n",
    "    print(\"accuracy\", acc)    "
   ]
  },
  {
   "cell_type": "code",
   "execution_count": 25,
   "metadata": {},
   "outputs": [
    {
     "name": "stdout",
     "output_type": "stream",
     "text": [
      "f1 score:  0.6528112627175862\n",
      "avg recall 0.6202334295446024\n",
      "accuracy 0.6554835071891739\n"
     ]
    }
   ],
   "source": [
    "evaluate(y_test, nsv.predict(X_test))"
   ]
  }
 ],
 "metadata": {
  "kernelspec": {
   "display_name": "Python 3",
   "language": "python",
   "name": "python3"
  },
  "language_info": {
   "codemirror_mode": {
    "name": "ipython",
    "version": 3
   },
   "file_extension": ".py",
   "mimetype": "text/x-python",
   "name": "python",
   "nbconvert_exporter": "python",
   "pygments_lexer": "ipython3",
   "version": "3.5.2"
  }
 },
 "nbformat": 4,
 "nbformat_minor": 2
}
