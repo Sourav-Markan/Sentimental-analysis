{
 "cells": [
  {
   "cell_type": "code",
   "execution_count": 25,
   "metadata": {},
   "outputs": [],
   "source": [
    "import csv\n",
    "import re\n",
    "import codecs\n",
    "\n",
    "import numpy as np\n",
    "import nltk\n",
    "from nltk.tokenize import TweetTokenizer\n",
    "from nltk.corpus import stopwords\n",
    "\n",
    "from sklearn.feature_extraction.text import CountVectorizer\n",
    "from sklearn.svm import SVC\n",
    "from sklearn.model_selection import train_test_split, StratifiedKFold, cross_val_score\n",
    "from sklearn.pipeline import make_pipeline, Pipeline\n",
    "from sklearn.model_selection import GridSearchCV\n",
    "from sklearn.metrics import make_scorer, accuracy_score, f1_score, precision_score, recall_score\n",
    "import pandas as pd"
   ]
  },
  {
   "cell_type": "code",
   "execution_count": 2,
   "metadata": {},
   "outputs": [],
   "source": [
    "TRAIN_DATA = \"../data/Subtasks_CE/twitter-2016train-CE.txt\"\n",
    "TEST_DATA = \"../data/Subtasks_CE/twitter-2016test-CE.txt\"\n",
    "DEV_DATA = \"../data/Subtasks_CE/twitter-2016dev-CE.txt\"\n",
    "DEVTEST_DATA = \"../data/Subtasks_CE/twitter-2016devtest-CE.txt\""
   ]
  },
  {
   "cell_type": "code",
   "execution_count": 3,
   "metadata": {},
   "outputs": [],
   "source": [
    "def readData(path):\n",
    "    data = []\n",
    "    with open(path) as file:\n",
    "        data = file.read()\n",
    "#         data = codecs.decode(data, 'unicode_escape')\n",
    "        data = data.split('\\n')[:-1]\n",
    "    return data\n",
    "\n",
    "def removePattern(tweet, pattern):\n",
    "    r = re.findall(pattern, tweet)\n",
    "    for i in r:\n",
    "        tweet = re.sub(i, '', tweet)\n",
    "    return tweet\n",
    "\n",
    "def preprocess(data):\n",
    "    cleanData = []\n",
    "    for line in data:\n",
    "        tId, tAt, tSent, tweet = line.split(\"\\t\") # Splitting by tabspace\n",
    "        tweet = removePattern(tweet, \"@[\\w]*\") # Removing @user tags\n",
    "        tweet = tweet.replace(\"#\", \"\") # Removing '#' from hashtags\n",
    "        tweet = tweet.replace(\"[^a-zA-Z#]\", \" \") # Removing punctuation and special characters\n",
    "        tweet = re.sub(r'http[s]?://(?:[a-z]|[0-9]|[$-_@.&amp;+]|[!*\\(\\),]|(?:%[0-9a-f][0-9a-f]))+',\"<URL>\", tweet)\n",
    "        tweet = re.sub(\" +\", \" \", tweet)\n",
    "        tweet = tweet.lower()\n",
    "        cleanData.append([tId, tAt, tSent, tweet])\n",
    "    return cleanData\n",
    "\n",
    "def tokenize(tweet):\n",
    "    return TweetTokenizer().tokenize(tweet)\n",
    "\n",
    "en_stopwords = set(stopwords.words(\"english\")) \n",
    "vectorizer = CountVectorizer(\n",
    "    analyzer = 'word',\n",
    "    tokenizer = tokenize,\n",
    "    lowercase = True,\n",
    "    ngram_range=(1, 1),\n",
    "    stop_words = en_stopwords)"
   ]
  },
  {
   "cell_type": "code",
   "execution_count": 4,
   "metadata": {},
   "outputs": [],
   "source": [
    "trainData   = readData(TRAIN_DATA)\n",
    "testData    = readData(TEST_DATA)\n",
    "devData     = readData(DEV_DATA)\n",
    "devTestData = readData(DEVTEST_DATA)"
   ]
  },
  {
   "cell_type": "code",
   "execution_count": 5,
   "metadata": {},
   "outputs": [],
   "source": [
    "trainData   = preprocess(trainData)\n",
    "testData    = preprocess(testData)\n",
    "devData     = preprocess(devData)\n",
    "devTestData = preprocess(devTestData)"
   ]
  },
  {
   "cell_type": "code",
   "execution_count": 6,
   "metadata": {},
   "outputs": [],
   "source": [
    "trainTweets = [x[3] for x in trainData]\n",
    "X_train = np.array(trainTweets)\n",
    "trainSents = [x[2] for x in trainData]\n",
    "y_train = np.array(trainSents)\n",
    "\n",
    "testTweets = [x[3] for x in testData]\n",
    "X_test = np.array(testTweets)\n",
    "y_test = [x[2] for x in testData]"
   ]
  },
  {
   "cell_type": "code",
   "execution_count": 7,
   "metadata": {},
   "outputs": [],
   "source": [
    "X = np.append(X_train, X_test)\n",
    "X = vectorizer.fit_transform(X)\n",
    "n = X_train.shape[0]\n",
    "X_train = X[:n]\n",
    "X_test = X[n:]"
   ]
  },
  {
   "cell_type": "code",
   "execution_count": null,
   "metadata": {},
   "outputs": [],
   "source": [
    "params = {'kernel':['linear', 'rbf'],'C':[0.001, 0.01, 0.03, 0.05, 0.07 ,0.1,1, 10],'gamma':[0.000000001,0.00001, 0.001,0.1]}\n",
    "clf = GridSearchCV(SVC(), params, cv =2, n_jobs = -1)\n",
    "clf.fit(X_train, y_train)\n",
    "print(clf.best_params_)\n",
    "print(clf.score(X_test, y_test))"
   ]
  },
  {
   "cell_type": "code",
   "execution_count": null,
   "metadata": {},
   "outputs": [],
   "source": [
    "def evaluate(target, predicted):\n",
    "    f1 = f1_score(target, predicted, average='weighted')\n",
    "    acc = accuracy_score(target, predicted)\n",
    "    rec = recall_score(target, predicted, average = 'macro')\n",
    "#     return f1, acc, rec\n",
    "    print(\"F1 score : \", f1)\n",
    "    print(\"Avg Recall:\", rec)    \n",
    "    print(\"Accuracy:  \", acc)    "
   ]
  },
  {
   "cell_type": "code",
   "execution_count": null,
   "metadata": {},
   "outputs": [],
   "source": [
    "evaluate(y_test, clf.predict(X_test))"
   ]
  },
  {
   "cell_type": "code",
   "execution_count": null,
   "metadata": {},
   "outputs": [],
   "source": []
  }
 ],
 "metadata": {
  "kernelspec": {
   "display_name": "Python 3",
   "language": "python",
   "name": "python3"
  },
  "language_info": {
   "codemirror_mode": {
    "name": "ipython",
    "version": 3
   },
   "file_extension": ".py",
   "mimetype": "text/x-python",
   "name": "python",
   "nbconvert_exporter": "python",
   "pygments_lexer": "ipython3",
   "version": "3.5.2"
  }
 },
 "nbformat": 4,
 "nbformat_minor": 2
}
