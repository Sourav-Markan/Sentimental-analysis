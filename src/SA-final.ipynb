{
 "cells": [
  {
   "cell_type": "code",
   "execution_count": 74,
   "metadata": {},
   "outputs": [],
   "source": [
    "import csv\n",
    "import re\n",
    "import codecs\n",
    "\n",
    "import numpy as np\n",
    "import nltk\n",
    "from nltk.tokenize import TweetTokenizer\n",
    "from nltk.corpus import stopwords\n",
    "\n",
    "from sklearn.feature_extraction.text import CountVectorizer\n",
    "from sklearn.svm import SVC\n",
    "from sklearn.model_selection import train_test_split, StratifiedKFold, cross_val_score\n",
    "from sklearn.pipeline import make_pipeline, Pipeline\n",
    "from sklearn.model_selection import GridSearchCV\n",
    "from sklearn.metrics import make_scorer, accuracy_score, f1_score, precision_score, recall_score\n",
    "import pandas as pd\n",
    "from keras.preprocessing.text import Tokenizer\n",
    "from keras.preprocessing.sequence import pad_sequences\n",
    "from keras.models import Sequential\n",
    "from keras.layers import Dense, Embedding, LSTM\n",
    "from keras import losses"
   ]
  },
  {
   "cell_type": "code",
   "execution_count": 49,
   "metadata": {},
   "outputs": [],
   "source": [
    "def readData(path):\n",
    "    data = []\n",
    "    with open(path) as file:\n",
    "        data = file.read()\n",
    "#         data = codecs.decode(data, 'unicode_escape')\n",
    "        data = data.split('\\n')[:-1]\n",
    "    return data\n",
    "\n",
    "def removePattern(tweet, pattern):\n",
    "    r = re.findall(pattern, tweet)\n",
    "    for i in r:\n",
    "        tweet = re.sub(i, '', tweet)\n",
    "    return tweet\n",
    "\n",
    "def preprocess(data):\n",
    "    cleanData = []\n",
    "    for line in data:\n",
    "        tId, tAt, tSent, tweet = line.split(\"\\t\")[:4] # Splitting by tabspace\n",
    "        tweet = removePattern(tweet, \"@[\\w]*\") # Removing @user tags\n",
    "        tweet = tweet.replace(\"#\", \"\") # Removing '#' from hashtags\n",
    "        tweet = tweet.replace(\"[^a-zA-Z#]\", \" \") # Removing punctuation and special characters\n",
    "        tweet = re.sub(r'http[s]?://(?:[a-z]|[0-9]|[$-_@.&amp;+]|[!*\\(\\),]|(?:%[0-9a-f][0-9a-f]))+',\"<URL>\", tweet)\n",
    "        tweet = re.sub(\" +\", \" \", tweet)\n",
    "        tweet = tweet.lower()\n",
    "        cleanData.append([tId, tAt, tSent, tweet])\n",
    "    return cleanData\n",
    "\n",
    "def tokenize(tweet):\n",
    "    return TweetTokenizer().tokenize(tweet)"
   ]
  },
  {
   "cell_type": "code",
   "execution_count": 50,
   "metadata": {},
   "outputs": [],
   "source": [
    "def evaluate(target, predicted):\n",
    "    f1 = f1_score(target, predicted, average='weighted')\n",
    "    acc = accuracy_score(target, predicted)\n",
    "    rec = recall_score(target, predicted, average = 'macro')\n",
    "    print(\"F1 score : \", f1)\n",
    "    print(\"Avg Recall:\", rec)    \n",
    "    print(\"Accuracy:  \", acc)    "
   ]
  },
  {
   "cell_type": "markdown",
   "metadata": {},
   "source": [
    "# 5 Class with SVM"
   ]
  },
  {
   "cell_type": "code",
   "execution_count": 39,
   "metadata": {},
   "outputs": [],
   "source": [
    "TRAIN_DATA = \"../data/Subtasks_CE/twitter-2016train-CE.txt\"\n",
    "TEST_DATA = \"../data/Subtasks_CE/twitter-2016test-CE.txt\"\n",
    "DEV_DATA = \"../data/Subtasks_CE/twitter-2016dev-CE.txt\"\n",
    "DEVTEST_DATA = \"../data/Subtasks_CE/twitter-2016devtest-CE.txt\""
   ]
  },
  {
   "cell_type": "code",
   "execution_count": 40,
   "metadata": {},
   "outputs": [],
   "source": [
    "en_stopwords = set(stopwords.words(\"english\")) \n",
    "vectorizer = CountVectorizer(\n",
    "    analyzer = 'word',\n",
    "    tokenizer = tokenize,\n",
    "    lowercase = True,\n",
    "    ngram_range=(1, 1),\n",
    "    stop_words = en_stopwords)"
   ]
  },
  {
   "cell_type": "code",
   "execution_count": 41,
   "metadata": {},
   "outputs": [],
   "source": [
    "trainData   = readData(TRAIN_DATA)\n",
    "testData    = readData(TEST_DATA)\n",
    "devData     = readData(DEV_DATA)\n",
    "devTestData = readData(DEVTEST_DATA)"
   ]
  },
  {
   "cell_type": "code",
   "execution_count": 42,
   "metadata": {},
   "outputs": [],
   "source": [
    "trainData   = preprocess(trainData)\n",
    "testData    = preprocess(testData)\n",
    "devData     = preprocess(devData)\n",
    "devTestData = preprocess(devTestData)"
   ]
  },
  {
   "cell_type": "code",
   "execution_count": 43,
   "metadata": {},
   "outputs": [],
   "source": [
    "trainTweets = [x[3] for x in trainData]\n",
    "X_train = np.array(trainTweets)\n",
    "trainSents = [x[2] for x in trainData]\n",
    "y_train = np.array(trainSents)\n",
    "\n",
    "testTweets = [x[3] for x in testData]\n",
    "X_test = np.array(testTweets)\n",
    "y_test = [x[2] for x in testData]"
   ]
  },
  {
   "cell_type": "code",
   "execution_count": 44,
   "metadata": {},
   "outputs": [],
   "source": [
    "X = np.append(X_train, X_test)\n",
    "X = vectorizer.fit_transform(X)\n",
    "n = X_train.shape[0]\n",
    "X_train = X[:n]\n",
    "X_test = X[n:]"
   ]
  },
  {
   "cell_type": "code",
   "execution_count": 45,
   "metadata": {},
   "outputs": [
    {
     "name": "stdout",
     "output_type": "stream",
     "text": [
      "{'C': 0.03, 'gamma': 1e-09, 'kernel': 'linear'}\n",
      "0.40141527723924003\n"
     ]
    }
   ],
   "source": [
    "params = {'kernel':['linear', 'rbf'],'C':[0.001, 0.01, 0.03, 0.05, 0.07 ,0.1,1, 10],'gamma':[0.000000001,0.00001, 0.001,0.1]}\n",
    "clf = GridSearchCV(SVC(), params, cv =2, n_jobs = -1)\n",
    "clf.fit(X_train, y_train)\n",
    "print(clf.best_params_)\n",
    "print(clf.score(X_test, y_test))"
   ]
  },
  {
   "cell_type": "code",
   "execution_count": 46,
   "metadata": {},
   "outputs": [
    {
     "name": "stdout",
     "output_type": "stream",
     "text": [
      "F1 score :  0.26599774601583265\n",
      "Avg Recall: 0.20832751412550957\n",
      "Accuracy:   0.40141527723924003\n"
     ]
    },
    {
     "name": "stderr",
     "output_type": "stream",
     "text": [
      "/home/vaibhav/.local/lib/python3.6/site-packages/sklearn/metrics/classification.py:1143: UndefinedMetricWarning: F-score is ill-defined and being set to 0.0 in labels with no predicted samples.\n",
      "  'precision', 'predicted', average, warn_for)\n"
     ]
    }
   ],
   "source": [
    "evaluate(y_test, clf.predict(X_test))"
   ]
  },
  {
   "cell_type": "markdown",
   "metadata": {},
   "source": [
    "# 5 Class with LSTM"
   ]
  },
  {
   "cell_type": "code",
   "execution_count": 64,
   "metadata": {},
   "outputs": [],
   "source": [
    "TRAIN_DATA = \"../data/Subtasks_CE/twitter-2016train-CE.txt\"\n",
    "TEST_DATA = \"../data/Subtasks_CE/twitter-2016test-CE.txt\"\n",
    "DEV_DATA = \"../data/Subtasks_CE/twitter-2016dev-CE.txt\"\n",
    "DEVTEST_DATA = \"../data/Subtasks_CE/twitter-2016devtest-CE.txt\""
   ]
  },
  {
   "cell_type": "code",
   "execution_count": 65,
   "metadata": {},
   "outputs": [],
   "source": [
    "trainData   = readData(TRAIN_DATA)\n",
    "testData    = readData(TEST_DATA)\n",
    "devData     = readData(DEV_DATA)\n",
    "devTestData = readData(DEVTEST_DATA)"
   ]
  },
  {
   "cell_type": "code",
   "execution_count": 66,
   "metadata": {},
   "outputs": [],
   "source": [
    "trainData   = readData(TRAIN_DATA)\n",
    "testData    = readData(TEST_DATA)\n",
    "devData     = readData(DEV_DATA)\n",
    "devTestData = readData(DEVTEST_DATA)"
   ]
  },
  {
   "cell_type": "code",
   "execution_count": 67,
   "metadata": {},
   "outputs": [],
   "source": [
    "trainTweets = [x[3] for x in trainData]\n",
    "X_train = np.array(trainTweets)\n",
    "trainSents = [x[2] for x in trainData]\n",
    "y_train = np.array(trainSents)\n",
    "\n",
    "testTweets = [x[3] for x in testData]\n",
    "X_test = np.array(testTweets)\n",
    "testSents = [x[2] for x in testData]\n",
    "y_test = np.array(testSents)"
   ]
  },
  {
   "cell_type": "code",
   "execution_count": 68,
   "metadata": {},
   "outputs": [
    {
     "name": "stderr",
     "output_type": "stream",
     "text": [
      "/home/vaibhav/.local/lib/python3.6/site-packages/keras_preprocessing/text.py:177: UserWarning: The `nb_words` argument in `Tokenizer` has been renamed `num_words`.\n",
      "  warnings.warn('The `nb_words` argument in `Tokenizer` '\n"
     ]
    }
   ],
   "source": [
    "max_features = 2000\n",
    "tokenizer = Tokenizer(nb_words=max_features, split=' ')\n",
    "tokenizer.fit_on_texts(trainTweets)\n",
    "n = len(X_train)\n",
    "X = tokenizer.texts_to_sequences(trainTweets + testTweets)\n",
    "X_train = X[:n]\n",
    "X_test = X[n:]\n",
    "X_train = pad_sequences(X_train, maxlen=32)\n",
    "X_test = pad_sequences(X_test, maxlen=32)"
   ]
  },
  {
   "cell_type": "code",
   "execution_count": 86,
   "metadata": {},
   "outputs": [
    {
     "name": "stderr",
     "output_type": "stream",
     "text": [
      "/home/vaibhav/.local/lib/python3.6/site-packages/ipykernel_launcher.py:5: UserWarning: The `dropout` argument is no longer support in `Embedding`. You can apply a `keras.layers.SpatialDropout1D` layer right after the `Embedding` layer to get the same behavior.\n",
      "  \"\"\"\n",
      "/home/vaibhav/.local/lib/python3.6/site-packages/ipykernel_launcher.py:6: UserWarning: Update your `LSTM` call to the Keras 2 API: `LSTM(196, dropout=0.2, recurrent_dropout=0.2)`\n",
      "  \n"
     ]
    },
    {
     "name": "stdout",
     "output_type": "stream",
     "text": [
      "_________________________________________________________________\n",
      "Layer (type)                 Output Shape              Param #   \n",
      "=================================================================\n",
      "embedding_7 (Embedding)      (None, 32, 128)           256000    \n",
      "_________________________________________________________________\n",
      "lstm_7 (LSTM)                (None, 196)               254800    \n",
      "_________________________________________________________________\n",
      "dense_7 (Dense)              (None, 5)                 985       \n",
      "=================================================================\n",
      "Total params: 511,785\n",
      "Trainable params: 511,785\n",
      "Non-trainable params: 0\n",
      "_________________________________________________________________\n",
      "None\n"
     ]
    }
   ],
   "source": [
    "embed_dim = 128\n",
    "lstm_out = 196\n",
    "\n",
    "model = Sequential()\n",
    "model.add(Embedding(max_features, embed_dim,input_length = X_train.shape[1], dropout=0.2))\n",
    "model.add(LSTM(lstm_out, dropout_U=0.2, dropout_W=0.2))\n",
    "model.add(Dense(5,activation='softmax'))\n",
    "model.compile(loss = 'categorical_crossentropy', optimizer='adam',metrics = ['accuracy'])\n",
    "print(model.summary())"
   ]
  },
  {
   "cell_type": "code",
   "execution_count": 87,
   "metadata": {},
   "outputs": [],
   "source": [
    "Y_train = []\n",
    "Y_test = []\n",
    "for i in trainSents:\n",
    "    if i == \"-2\":\n",
    "        Y_train.append([1, 0, 0, 0, 0])\n",
    "    elif i == \"-1\":\n",
    "        Y_train.append([0, 1, 0, 0, 0])\n",
    "    elif i == \"0\":\n",
    "        Y_train.append([0, 0, 1, 0, 0])\n",
    "    elif i == \"1\":\n",
    "        Y_train.append([0, 0, 0, 1, 0])\n",
    "    elif i == \"2\":\n",
    "        Y_train.append([0, 0, 0, 0, 1])\n",
    "    else:\n",
    "        print(i)\n",
    "        \n",
    "Y_train = np.array(Y_train)\n",
    "\n",
    "for i in testSents:\n",
    "    if i == \"-2\":\n",
    "        Y_test.append([1, 0, 0, 0, 0])\n",
    "    elif i == \"-1\":\n",
    "        Y_test.append([0, 1, 0, 0, 0])\n",
    "    elif i == \"0\":\n",
    "        Y_test.append([0, 0, 1, 0, 0])\n",
    "    elif i == \"1\":\n",
    "        Y_test.append([0, 0, 0, 1, 0])\n",
    "    elif i == \"2\":\n",
    "        Y_test.append([0, 0, 0, 0, 1])\n",
    "    else:\n",
    "        print(i)\n",
    "Y_test = np.array(Y_test)\n"
   ]
  },
  {
   "cell_type": "code",
   "execution_count": 88,
   "metadata": {},
   "outputs": [
    {
     "name": "stderr",
     "output_type": "stream",
     "text": [
      "/home/vaibhav/.local/lib/python3.6/site-packages/ipykernel_launcher.py:2: UserWarning: The `nb_epoch` argument in `fit` has been renamed `epochs`.\n",
      "  \n"
     ]
    },
    {
     "name": "stdout",
     "output_type": "stream",
     "text": [
      "Epoch 1/7\n",
      " - 18s - loss: 1.1780 - acc: 0.5322\n",
      "Epoch 2/7\n",
      " - 14s - loss: 0.9784 - acc: 0.6028\n",
      "Epoch 3/7\n",
      " - 12s - loss: 0.8640 - acc: 0.6462\n",
      "Epoch 4/7\n",
      " - 14s - loss: 0.7751 - acc: 0.6820\n",
      "Epoch 5/7\n",
      " - 17s - loss: 0.7055 - acc: 0.7160\n",
      "Epoch 6/7\n",
      " - 16s - loss: 0.6263 - acc: 0.7505\n",
      "Epoch 7/7\n",
      " - 20s - loss: 0.5730 - acc: 0.7793\n"
     ]
    },
    {
     "data": {
      "text/plain": [
       "<keras.callbacks.History at 0x7f171a2ebcf8>"
      ]
     },
     "execution_count": 88,
     "metadata": {},
     "output_type": "execute_result"
    }
   ],
   "source": [
    "batch_size = 32\n",
    "model.fit(X_train, Y_train, nb_epoch = 7, batch_size=batch_size, verbose = 2)"
   ]
  },
  {
   "cell_type": "code",
   "execution_count": 89,
   "metadata": {},
   "outputs": [],
   "source": [
    "preds = []\n",
    "\n",
    "for x in range(len(X_test)):\n",
    "    result = model.predict(X_test[x].reshape(1,X_test.shape[1]),batch_size=1,verbose = 2)[0]\n",
    "    if np.argmax(result) == 0:\n",
    "        preds.append([1, 0, 0, 0, 0])\n",
    "    elif np.argmax(result) == 1:\n",
    "        preds.append([0, 1, 0, 0, 0])\n",
    "    elif np.argmax(result) == 2:\n",
    "        preds.append([0, 0, 1, 0, 0])\n",
    "    elif np.argmax(result) == 3:\n",
    "        preds.append([0, 0, 0, 1, 0])\n",
    "    elif np.argmax(result) == 4:\n",
    "        preds.append([0, 0, 0, 0, 1])\n",
    "        \n",
    "preds = np.array(preds)"
   ]
  },
  {
   "cell_type": "code",
   "execution_count": 90,
   "metadata": {},
   "outputs": [
    {
     "name": "stdout",
     "output_type": "stream",
     "text": [
      "F1 score :  0.4605503031686896\n",
      "Avg Recall: 0.2757862935409193\n",
      "Accuracy:   0.4390752229546336\n"
     ]
    }
   ],
   "source": [
    "evaluate(preds, Y_test)\n"
   ]
  },
  {
   "cell_type": "markdown",
   "metadata": {},
   "source": [
    "# 2 class LSTM"
   ]
  },
  {
   "cell_type": "code",
   "execution_count": 92,
   "metadata": {},
   "outputs": [],
   "source": [
    "TRAIN_DATA = \"../data/Subtasks_BD/twitter-2016train-BD.txt\"\n",
    "TEST_DATA = \"../data/Subtasks_BD/twitter-2016test-BD.txt\"\n",
    "DEV_DATA = \"../data/Subtasks_BD/twitter-2016dev-BD.txt\"\n",
    "DEVTEST_DATA = \"../data/Subtasks_BD/twitter-2016devtest-BD.txt\""
   ]
  },
  {
   "cell_type": "code",
   "execution_count": 93,
   "metadata": {},
   "outputs": [],
   "source": [
    "trainData   = readData(TRAIN_DATA)\n",
    "testData    = readData(TEST_DATA)\n",
    "devData     = readData(DEV_DATA)\n",
    "devTestData = readData(DEVTEST_DATA)"
   ]
  },
  {
   "cell_type": "code",
   "execution_count": 94,
   "metadata": {},
   "outputs": [],
   "source": [
    "trainData   = preprocess(trainData)\n",
    "testData    = preprocess(testData)\n",
    "devData     = preprocess(devData)\n",
    "devTestData = preprocess(devTestData)"
   ]
  },
  {
   "cell_type": "code",
   "execution_count": 95,
   "metadata": {},
   "outputs": [],
   "source": [
    "trainTweets = [x[3] for x in trainData]\n",
    "X_train = np.array(trainTweets)\n",
    "trainSents = [x[2] for x in trainData]\n",
    "y_train = np.array(trainSents)\n",
    "\n",
    "testTweets = [x[3] for x in testData]\n",
    "X_test = np.array(testTweets)\n",
    "testSents = [x[2] for x in testData]\n",
    "y_test = np.array(testSents)"
   ]
  },
  {
   "cell_type": "code",
   "execution_count": 96,
   "metadata": {},
   "outputs": [
    {
     "name": "stderr",
     "output_type": "stream",
     "text": [
      "/home/vaibhav/.local/lib/python3.6/site-packages/keras_preprocessing/text.py:177: UserWarning: The `nb_words` argument in `Tokenizer` has been renamed `num_words`.\n",
      "  warnings.warn('The `nb_words` argument in `Tokenizer` '\n"
     ]
    }
   ],
   "source": [
    "max_features = 2000\n",
    "tokenizer = Tokenizer(nb_words=max_features, split=' ')\n",
    "tokenizer.fit_on_texts(trainTweets)\n",
    "n = len(X_train)\n",
    "X = tokenizer.texts_to_sequences(trainTweets + testTweets)\n",
    "X_train = X[:n]\n",
    "X_test = X[n:]\n",
    "X_train = pad_sequences(X_train, maxlen=32)\n",
    "X_test = pad_sequences(X_test, maxlen=32)"
   ]
  },
  {
   "cell_type": "code",
   "execution_count": 97,
   "metadata": {},
   "outputs": [
    {
     "name": "stderr",
     "output_type": "stream",
     "text": [
      "/home/vaibhav/.local/lib/python3.6/site-packages/ipykernel_launcher.py:5: UserWarning: The `dropout` argument is no longer support in `Embedding`. You can apply a `keras.layers.SpatialDropout1D` layer right after the `Embedding` layer to get the same behavior.\n",
      "  \"\"\"\n",
      "/home/vaibhav/.local/lib/python3.6/site-packages/ipykernel_launcher.py:6: UserWarning: Update your `LSTM` call to the Keras 2 API: `LSTM(196, dropout=0.2, recurrent_dropout=0.2)`\n",
      "  \n"
     ]
    },
    {
     "name": "stdout",
     "output_type": "stream",
     "text": [
      "_________________________________________________________________\n",
      "Layer (type)                 Output Shape              Param #   \n",
      "=================================================================\n",
      "embedding_8 (Embedding)      (None, 32, 128)           256000    \n",
      "_________________________________________________________________\n",
      "lstm_8 (LSTM)                (None, 196)               254800    \n",
      "_________________________________________________________________\n",
      "dense_8 (Dense)              (None, 2)                 394       \n",
      "=================================================================\n",
      "Total params: 511,194\n",
      "Trainable params: 511,194\n",
      "Non-trainable params: 0\n",
      "_________________________________________________________________\n",
      "None\n"
     ]
    }
   ],
   "source": [
    "embed_dim = 128\n",
    "lstm_out = 196\n",
    "\n",
    "model = Sequential()\n",
    "model.add(Embedding(max_features, embed_dim,input_length = X_train.shape[1], dropout=0.2))\n",
    "model.add(LSTM(lstm_out, dropout_U=0.2, dropout_W=0.2))\n",
    "model.add(Dense(2,activation='softmax'))\n",
    "model.compile(loss = 'categorical_crossentropy', optimizer='adam',metrics = ['accuracy'])\n",
    "print(model.summary())"
   ]
  },
  {
   "cell_type": "code",
   "execution_count": 98,
   "metadata": {},
   "outputs": [],
   "source": [
    "Y_train = []\n",
    "Y_test = []\n",
    "for i in trainSents:\n",
    "    if i == \"positive\":\n",
    "        Y_train.append([1, 0])\n",
    "    else:\n",
    "        Y_train.append([0, 1])\n",
    "Y_train = np.array(Y_train)\n",
    "\n",
    "for i in testSents:\n",
    "    if i == \"positive\":\n",
    "        Y_test.append([1, 0])\n",
    "    else:\n",
    "        Y_test.append([0, 1])\n",
    "Y_test = np.array(Y_test)\n"
   ]
  },
  {
   "cell_type": "code",
   "execution_count": 99,
   "metadata": {},
   "outputs": [
    {
     "name": "stderr",
     "output_type": "stream",
     "text": [
      "/home/vaibhav/.local/lib/python3.6/site-packages/ipykernel_launcher.py:2: UserWarning: The `nb_epoch` argument in `fit` has been renamed `epochs`.\n",
      "  \n"
     ]
    },
    {
     "name": "stdout",
     "output_type": "stream",
     "text": [
      "Epoch 1/7\n",
      " - 11s - loss: 0.4134 - acc: 0.8373\n",
      "Epoch 2/7\n",
      " - 9s - loss: 0.2542 - acc: 0.8974\n",
      "Epoch 3/7\n",
      " - 9s - loss: 0.1896 - acc: 0.9312\n",
      "Epoch 4/7\n",
      " - 9s - loss: 0.1469 - acc: 0.9448\n",
      "Epoch 5/7\n",
      " - 10s - loss: 0.1131 - acc: 0.9609\n",
      "Epoch 6/7\n",
      " - 7s - loss: 0.0787 - acc: 0.9740\n",
      "Epoch 7/7\n",
      " - 7s - loss: 0.0670 - acc: 0.9765\n"
     ]
    },
    {
     "data": {
      "text/plain": [
       "<keras.callbacks.History at 0x7f175d905860>"
      ]
     },
     "execution_count": 99,
     "metadata": {},
     "output_type": "execute_result"
    }
   ],
   "source": [
    "batch_size = 32\n",
    "model.fit(X_train, Y_train, nb_epoch = 7, batch_size=batch_size, verbose = 2)"
   ]
  },
  {
   "cell_type": "code",
   "execution_count": 100,
   "metadata": {},
   "outputs": [],
   "source": [
    "preds = []\n",
    "for x in range(len(X_test)):\n",
    "    result = model.predict(X_test[x].reshape(1,X_test.shape[1]),batch_size=1,verbose = 2)[0]\n",
    "    if np.argmax(result) == 0:\n",
    "        preds.append([1, 0])\n",
    "    else:\n",
    "        preds.append([0, 1])\n",
    "preds = np.array(preds)"
   ]
  },
  {
   "cell_type": "code",
   "execution_count": 101,
   "metadata": {},
   "outputs": [
    {
     "name": "stdout",
     "output_type": "stream",
     "text": [
      "F1 score :  0.7536952763479294\n",
      "Avg Recall: 0.6261703164164272\n",
      "Accuracy:   0.7483650838783054\n"
     ]
    }
   ],
   "source": [
    "evaluate(preds, Y_test)"
   ]
  },
  {
   "cell_type": "code",
   "execution_count": null,
   "metadata": {},
   "outputs": [],
   "source": []
  }
 ],
 "metadata": {
  "kernelspec": {
   "display_name": "Python 3",
   "language": "python",
   "name": "python3"
  },
  "language_info": {
   "codemirror_mode": {
    "name": "ipython",
    "version": 3
   },
   "file_extension": ".py",
   "mimetype": "text/x-python",
   "name": "python",
   "nbconvert_exporter": "python",
   "pygments_lexer": "ipython3",
   "version": "3.6.7"
  }
 },
 "nbformat": 4,
 "nbformat_minor": 2
}
