{
 "cells": [
  {
   "cell_type": "code",
   "execution_count": 56,
   "metadata": {},
   "outputs": [],
   "source": [
    "import csv\n",
    "import re\n",
    "import codecs\n",
    "\n",
    "import numpy as np\n",
    "\n",
    "from nltk.tokenize import TweetTokenizer\n",
    "from nltk.corpus import stopwords\n",
    "\n",
    "from sklearn.feature_extraction.text import CountVectorizer\n",
    "from sklearn.svm import SVC\n",
    "from sklearn.model_selection import train_test_split, StratifiedKFold, cross_val_score\n",
    "from sklearn.pipeline import make_pipeline, Pipeline\n",
    "from sklearn.model_selection import GridSearchCV\n",
    "from sklearn.metrics import make_scorer, accuracy_score, f1_score"
   ]
  },
  {
   "cell_type": "code",
   "execution_count": 24,
   "metadata": {},
   "outputs": [],
   "source": [
    "TRAIN_DATA = \"./GOLD/Subtask_A/twitter-2013train-A.txt\"\n",
    "TEST_DATA = \"./GOLD/Subtask_A/twitter-2013test-A.txt\"\n",
    "DEV_DATA = \"./GOLD/Subtask_A/twitter-2013dev-A.txt\""
   ]
  },
  {
   "cell_type": "code",
   "execution_count": 25,
   "metadata": {},
   "outputs": [
    {
     "name": "stderr",
     "output_type": "stream",
     "text": [
      "/home/trip-3r/.anaconda3/lib/python3.6/site-packages/ipykernel_launcher.py:9: DeprecationWarning: invalid escape sequence '\\m'\n",
      "  if __name__ == '__main__':\n",
      "/home/trip-3r/.anaconda3/lib/python3.6/site-packages/ipykernel_launcher.py:9: DeprecationWarning: invalid escape sequence '\\ '\n",
      "  if __name__ == '__main__':\n"
     ]
    }
   ],
   "source": [
    "trainData = []\n",
    "testData = []\n",
    "devData = []\n",
    "\n",
    "def readData(path):\n",
    "    data = []\n",
    "    with open(path) as file:\n",
    "        data = file.read()\n",
    "        data = codecs.decode(data, 'unicode_escape')\n",
    "        data = data.split('\\n')[:-1]\n",
    "    return data\n",
    "\n",
    "trainData = readData(TRAIN_DATA)\n",
    "testData = readData(TEST_DATA)\n",
    "devData = readData(DEV_DATA)"
   ]
  },
  {
   "cell_type": "code",
   "execution_count": 26,
   "metadata": {},
   "outputs": [],
   "source": [
    "def removePattern(tweet, pattern):\n",
    "    r = re.findall(pattern, tweet)\n",
    "    for i in r:\n",
    "        tweet = re.sub(i, '', tweet)\n",
    "    return tweet \n",
    "\n",
    "def preprocess(data):\n",
    "    cleanData = []\n",
    "    for line in data:\n",
    "        tId, tSent, tweet = line.split(\"\\t\") # Splitting by tabspace\n",
    "        tweet = removePattern(tweet, \"@[\\w]*\") # Removing @user tags\n",
    "        tweet = tweet.replace(\"[^a-zA-Z#]\", \" \") # Removing punctuation and special characters\n",
    "        tweet = re.sub(r'http[s]?://(?:[a-z]|[0-9]|[$-_@.&amp;+]|[!*\\(\\),]|(?:%[0-9a-f][0-9a-f]))+',\"<URL>\", tweet)\n",
    "#         tweet = tokenize(tweet)\n",
    "        cleanData.append([tId, tSent, tweet])\n",
    "        \n",
    "    return cleanData\n",
    "\n",
    "def tokenize(tweet):\n",
    "    return TweetTokenizer().tokenize(tweet)"
   ]
  },
  {
   "cell_type": "code",
   "execution_count": 27,
   "metadata": {},
   "outputs": [],
   "source": [
    "en_stopwords = set(stopwords.words(\"english\")) \n",
    "\n",
    "vectorizer = CountVectorizer(\n",
    "    analyzer = 'word',\n",
    "    tokenizer = tokenize,\n",
    "    lowercase = True,\n",
    "    ngram_range=(1, 1),\n",
    "    stop_words = en_stopwords)"
   ]
  },
  {
   "cell_type": "code",
   "execution_count": 28,
   "metadata": {},
   "outputs": [],
   "source": [
    "trainData = preprocess(trainData)\n",
    "testData = preprocess(testData)\n",
    "devData = preprocess(devData)"
   ]
  },
  {
   "cell_type": "code",
   "execution_count": 41,
   "metadata": {},
   "outputs": [],
   "source": [
    "trainTweets = [x[2] for x in trainData]\n",
    "X_train = np.array(trainTweets)\n",
    "trainSents = [x[1] for x in trainData]\n",
    "y_train = []\n",
    "for x in trainSents:\n",
    "    if x == \"negative\":\n",
    "        y_train.append(-1)\n",
    "    elif x == \"neutral\":\n",
    "        y_train.append(0)\n",
    "    elif x == \"positive\":\n",
    "        y_train.append(1)\n",
    "        \n",
    "testTweets = [x[2] for x in testData]\n",
    "X_test = np.array(testTweets)\n",
    "testSents = [x[1] for x in testData]\n",
    "y_test = []\n",
    "for x in testSents:\n",
    "    if x == \"negative\":\n",
    "        y_test.append(-1)\n",
    "    elif x == \"neutral\":\n",
    "        y_test.append(0)\n",
    "    elif x == \"positive\":\n",
    "        y_test.append(1)\n",
    "# X = vectorizer.fit_transform(trainTweets)\n",
    "# X"
   ]
  },
  {
   "cell_type": "code",
   "execution_count": 43,
   "metadata": {},
   "outputs": [
    {
     "name": "stdout",
     "output_type": "stream",
     "text": [
      "Fitting 5 folds for each of 3 candidates, totalling 15 fits\n"
     ]
    },
    {
     "name": "stderr",
     "output_type": "stream",
     "text": [
      "[Parallel(n_jobs=-1)]: Done  15 out of  15 | elapsed:  7.9min finished\n"
     ]
    },
    {
     "data": {
      "text/plain": [
       "0.6650690724555963"
      ]
     },
     "execution_count": 43,
     "metadata": {},
     "output_type": "execute_result"
    }
   ],
   "source": [
    "kfolds = StratifiedKFold(n_splits=5, shuffle=True, random_state=1)\n",
    "np.random.seed(1)\n",
    "pipeline_svm = make_pipeline(vectorizer, SVC(probability=True, kernel=\"linear\", class_weight=\"balanced\"))\n",
    "grid_svm = GridSearchCV(pipeline_svm,\n",
    "                    param_grid = {'svc__C': [0.01, 0.1, 1]}, \n",
    "                    cv = kfolds,\n",
    "                    verbose=1,   \n",
    "                    n_jobs=-1) \n",
    "grid_svm.fit(X_train, y_train)\n",
    "grid_svm.score(X_test, y_test)"
   ]
  },
  {
   "cell_type": "code",
   "execution_count": 44,
   "metadata": {},
   "outputs": [
    {
     "data": {
      "text/plain": [
       "{'svc__C': 0.1}"
      ]
     },
     "execution_count": 44,
     "metadata": {},
     "output_type": "execute_result"
    }
   ],
   "source": [
    "grid_svm.best_params_"
   ]
  },
  {
   "cell_type": "code",
   "execution_count": 45,
   "metadata": {},
   "outputs": [
    {
     "data": {
      "text/plain": [
       "0.6658405617513424"
      ]
     },
     "execution_count": 45,
     "metadata": {},
     "output_type": "execute_result"
    }
   ],
   "source": [
    "grid_svm.best_score_"
   ]
  },
  {
   "cell_type": "code",
   "execution_count": 59,
   "metadata": {},
   "outputs": [],
   "source": [
    "def report_results(model, X, y):\n",
    "    pred_proba = model.predict_proba(X)[:, 1]\n",
    "    pred = model.predict(X)        \n",
    "\n",
    "#     auc = roc_auc_score(y, pred_proba)\n",
    "    acc = accuracy_score(y, pred)\n",
    "#     f1 = f1_score(y, pred)\n",
    "#     prec = precision_score(y, pred)\n",
    "#     rec = recall_score(y, pred)\n",
    "#     result = {'f1': f1, 'acc': acc, 'precision': prec, 'recall': rec}\n",
    "    result  = {'acc':acc}\n",
    "    return result"
   ]
  },
  {
   "cell_type": "code",
   "execution_count": 60,
   "metadata": {},
   "outputs": [
    {
     "data": {
      "text/plain": [
       "{'acc': 0.6650690724555963}"
      ]
     },
     "execution_count": 60,
     "metadata": {},
     "output_type": "execute_result"
    }
   ],
   "source": [
    "report_results(grid_svm.best_estimator_, X_test, y_test)"
   ]
  },
  {
   "cell_type": "code",
   "execution_count": null,
   "metadata": {},
   "outputs": [],
   "source": []
  }
 ],
 "metadata": {
  "kernelspec": {
   "display_name": "Python 3",
   "language": "python",
   "name": "python3"
  },
  "language_info": {
   "codemirror_mode": {
    "name": "ipython",
    "version": 3
   },
   "file_extension": ".py",
   "mimetype": "text/x-python",
   "name": "python",
   "nbconvert_exporter": "python",
   "pygments_lexer": "ipython3",
   "version": "3.6.5"
  }
 },
 "nbformat": 4,
 "nbformat_minor": 2
}
